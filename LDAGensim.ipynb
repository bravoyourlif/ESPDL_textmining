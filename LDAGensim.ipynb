{
 "cells": [
  {
   "cell_type": "code",
   "execution_count": 1,
   "metadata": {},
   "outputs": [
    {
     "name": "stdout",
     "output_type": "stream",
     "text": [
      "[[\"First to respond, last to leave: Communities' roles and resilience across \"\n",
      "  \"the '4Rs'\",\n",
      "  'Abstract\\n'\n",
      "  'Shortly after the second major earthquake in Canterbury, New Zealand in '\n",
      "  '2011, an inventory of the activities and initiatives of community groups '\n",
      "  'and NGOs was conducted. Another two inventories were undertaken in 2012 and '\n",
      "  '2013. Analysis of these three inventories reveals some significant changes '\n",
      "  \"in both the types of activities being undertaken and the 'communities' \"\n",
      "  'responsible for them. The inventories document a rapid increase in the '\n",
      "  'number of community groups and non-governmental organisations playing a '\n",
      "  'role in recovery. An important finding is that most of those active almost '\n",
      "  '4 years after the first earthquake were actually in operation before the '\n",
      "  'earthquakes and have since layered recovery work over their core business. '\n",
      "  'In building resilience to all hazards, we therefore argue for better '\n",
      "  'recognition of the potential roles that different communities play, not '\n",
      "  'only in recovery, but across all phases of disaster risk reduction. These '\n",
      "  'roles range from administering first aid through to co-producing knowledge '\n",
      "  'underpinning risk management strategies and actions. We argue that '\n",
      "  'different types of communities have the potential to weave disaster '\n",
      "  'readiness, response and recovery, and risk reduction into their core '\n",
      "  'business, and therefore represent a valuable - though often underestimated '\n",
      "  'and poorly understood - resource. (C) 2014 Elsevier Ltd. All rights '\n",
      "  'reserved.',\n",
      "  'Keywords\\n'\n",
      "  '\\n'\n",
      "  'Author Keywords:Canterbury earthquakes; Community; Social capital; '\n",
      "  'Resilience; Participation\\n'\n",
      "  '\\n'\n",
      "  '\\n'\n",
      "  'KeyWords Plus:ADAPTIVE CAPACITY; DISASTER MANAGEMENT; PARTICIPATION; '\n",
      "  'VULNERABILITY; ADAPTATION; RECOVERY; LEVEL',\n",
      "  nan,\n",
      "  nan,\n",
      "  'DEC 2015']]\n"
     ]
    }
   ],
   "source": [
    "import re\n",
    "import numpy as np\n",
    "import pandas as pd\n",
    "from pprint import pprint\n",
    "\n",
    "import json\n",
    "import codecs\n",
    "\n",
    "# Gensim\n",
    "import gensim\n",
    "import gensim.corpora as corpora\n",
    "from gensim.utils import simple_preprocess\n",
    "from gensim.models import CoherenceModel\n",
    "\n",
    "# spacy for lemmatization\n",
    "import spacy\n",
    "\n",
    "# Plotting tools\n",
    "import pyLDAvis\n",
    "import pyLDAvis.gensim  # don't skip this\n",
    "import matplotlib.pyplot as plt\n",
    "# %matplotlib inline\n",
    "\n",
    "# Enable logging for gensim - optional\n",
    "import logging\n",
    "logging.basicConfig(format='%(asctime)s : %(levelname)s : %(message)s', level=logging.ERROR)\n",
    "\n",
    "import warnings\n",
    "warnings.filterwarnings(\"ignore\",category=DeprecationWarning)\n",
    "\n",
    "# NLTK Stop words\n",
    "from nltk.corpus import stopwords\n",
    "stop_words = stopwords.words('english')\n",
    "stop_words.extend(['from', 'subject', 're', 'edu', 'use'])\n",
    "\n",
    "# Import data\n",
    "with codecs.open('Total_WOS.json', 'r', 'utf-8-sig') as json_file:  \n",
    "    df= pd.DataFrame(json.load(json_file))\t\n",
    "df.head()\n",
    "\n",
    "# Convert to list\n",
    "data = df.values.tolist()\n",
    "pprint(data[:1])"
   ]
  },
  {
   "cell_type": "code",
   "execution_count": 2,
   "metadata": {},
   "outputs": [
    {
     "name": "stdout",
     "output_type": "stream",
     "text": [
      "[['first', 'to', 'respond', 'last', 'to', 'leave', 'communities', 'roles', 'and', 'resilience', 'across', 'the', 'rs', 'abstract', 'nshortly', 'after', 'the', 'second', 'major', 'earthquake', 'in', 'canterbury', 'new', 'zealand', 'in', 'an', 'inventory', 'of', 'the', 'activities', 'and', 'initiatives', 'of', 'community', 'groups', 'and', 'ngos', 'was', 'conducted', 'another', 'two', 'inventories', 'were', 'undertaken', 'in', 'and', 'analysis', 'of', 'these', 'three', 'inventories', 'reveals', 'some', 'significant', 'changes', 'in', 'both', 'the', 'types', 'of', 'activities', 'being', 'undertaken', 'and', 'the', 'communities', 'responsible', 'for', 'them', 'the', 'inventories', 'document', 'rapid', 'increase', 'in', 'the', 'number', 'of', 'community', 'groups', 'and', 'non', 'governmental', 'organisations', 'playing', 'role', 'in', 'recovery', 'an', 'important', 'finding', 'is', 'that', 'most', 'of', 'those', 'active', 'almost', 'years', 'after', 'the', 'first', 'earthquake', 'were', 'actually', 'in', 'operation', 'before', 'the', 'earthquakes', 'and', 'have', 'since', 'layered', 'recovery', 'work', 'over', 'their', 'core', 'business', 'in', 'building', 'resilience', 'to', 'all', 'hazards', 'we', 'therefore', 'argue', 'for', 'better', 'recognition', 'of', 'the', 'potential', 'roles', 'that', 'different', 'communities', 'play', 'not', 'only', 'in', 'recovery', 'but', 'across', 'all', 'phases', 'of', 'disaster', 'risk', 'reduction', 'these', 'roles', 'range', 'from', 'administering', 'first', 'aid', 'through', 'to', 'co', 'producing', 'knowledge', 'underpinning', 'risk', 'management', 'strategies', 'and', 'actions', 'we', 'argue', 'that', 'different', 'types', 'of', 'communities', 'have', 'the', 'potential', 'to', 'weave', 'disaster', 'readiness', 'response', 'and', 'recovery', 'and', 'risk', 'reduction', 'into', 'their', 'core', 'business', 'and', 'therefore', 'represent', 'valuable', 'though', 'often', 'underestimated', 'and', 'poorly', 'understood', 'resource', 'elsevier', 'ltd', 'all', 'rights', 'reserved', 'keywords', 'nauthor', 'keywords', 'canterbury', 'earthquakes', 'community', 'social', 'capital', 'resilience', 'participation', 'nkeywords', 'plus', 'adaptive', 'capacity', 'disaster', 'management', 'participation', 'vulnerability', 'adaptation', 'recovery', 'level', 'nan', 'nan', 'dec']]\n"
     ]
    }
   ],
   "source": [
    "\n",
    "# Tokenize words\n",
    "def sent_to_words(sentences):\n",
    "    for sentence in sentences:\n",
    "        yield(gensim.utils.simple_preprocess(str(sentence), deacc=True))  # deacc=True removes punctuations\n",
    "\n",
    "data_words = list(sent_to_words(data))\n",
    "\n",
    "print(data_words[:1])\n"
   ]
  },
  {
   "cell_type": "code",
   "execution_count": 3,
   "metadata": {},
   "outputs": [
    {
     "name": "stdout",
     "output_type": "stream",
     "text": [
      "['first', 'to', 'respond', 'last', 'to', 'leave', 'communities', 'roles', 'and', 'resilience', 'across', 'the', 'rs', 'abstract', 'nshortly', 'after', 'the', 'second', 'major', 'earthquake', 'in', 'canterbury_new_zealand', 'in', 'an', 'inventory', 'of', 'the', 'activities', 'and', 'initiatives', 'of', 'community', 'groups', 'and', 'ngos', 'was', 'conducted', 'another', 'two', 'inventories', 'were', 'undertaken', 'in', 'and', 'analysis', 'of', 'these', 'three', 'inventories', 'reveals', 'some', 'significant', 'changes', 'in', 'both', 'the', 'types', 'of', 'activities', 'being', 'undertaken', 'and', 'the', 'communities', 'responsible', 'for', 'them', 'the', 'inventories', 'document', 'rapid', 'increase', 'in', 'the', 'number', 'of', 'community', 'groups', 'and', 'non_governmental_organisations', 'playing', 'role', 'in', 'recovery', 'an', 'important', 'finding', 'is', 'that', 'most', 'of', 'those', 'active', 'almost', 'years', 'after', 'the', 'first', 'earthquake', 'were', 'actually', 'in', 'operation', 'before', 'the', 'earthquakes', 'and', 'have', 'since', 'layered', 'recovery', 'work', 'over', 'their', 'core', 'business', 'in', 'building', 'resilience', 'to', 'all', 'hazards', 'we', 'therefore', 'argue', 'for', 'better', 'recognition', 'of', 'the', 'potential', 'roles', 'that', 'different', 'communities', 'play', 'not', 'only', 'in', 'recovery', 'but', 'across', 'all', 'phases', 'of', 'disaster', 'risk', 'reduction', 'these', 'roles', 'range', 'from', 'administering', 'first', 'aid', 'through', 'to', 'co', 'producing', 'knowledge', 'underpinning', 'risk', 'management', 'strategies', 'and', 'actions', 'we', 'argue', 'that', 'different', 'types', 'of', 'communities', 'have', 'the', 'potential', 'to', 'weave', 'disaster', 'readiness', 'response', 'and', 'recovery', 'and', 'risk', 'reduction', 'into', 'their', 'core', 'business', 'and', 'therefore', 'represent', 'valuable', 'though', 'often', 'underestimated', 'and', 'poorly_understood', 'resource', 'elsevier_ltd_all_rights', 'reserved', 'keywords', 'nauthor', 'keywords', 'canterbury_earthquakes', 'community', 'social', 'capital', 'resilience', 'participation', 'nkeywords_plus', 'adaptive_capacity', 'disaster', 'management', 'participation', 'vulnerability', 'adaptation', 'recovery', 'level', 'nan', 'nan', 'dec']\n"
     ]
    }
   ],
   "source": [
    "# Build the bigram and trigram models\n",
    "bigram = gensim.models.Phrases(data_words, min_count=5, threshold=100) # higher threshold fewer phrases.\n",
    "trigram = gensim.models.Phrases(bigram[data_words], threshold=100)  \n",
    "\n",
    "# Faster way to get a sentence clubbed as a trigram/bigram\n",
    "bigram_mod = gensim.models.phrases.Phraser(bigram)\n",
    "trigram_mod = gensim.models.phrases.Phraser(trigram)\n",
    "\n",
    "# See trigram example\n",
    "print(trigram_mod[bigram_mod[data_words[0]]])\n",
    "\n"
   ]
  },
  {
   "cell_type": "code",
   "execution_count": 4,
   "metadata": {},
   "outputs": [
    {
     "name": "stdout",
     "output_type": "stream",
     "text": [
      "[['first', 'respond', 'last', 'leave', 'community', 'role', 'resilience', 'nshortly', 'second', 'major', 'earthquake', 'canterbury', 'inventory', 'activity', 'initiative', 'community', 'group', 'ngo', 'conduct', 'inventory', 'undertake', 'analysis', 'inventory', 'reveal', 'significant', 'change', 'type', 'activity', 'undertake', 'community', 'responsible', 'inventory', 'document', 'rapid', 'increase', 'number', 'community', 'group', 'organisation', 'play', 'role', 'recovery', 'important', 'finding', 'active', 'almost', 'year', 'first', 'earthquake', 'actually', 'operation', 'earthquake', 'layered', 'recovery', 'work', 'core', 'business', 'building', 'resilience', 'hazard', 'therefore', 'argue', 'well', 'recognition', 'potential', 'role', 'different', 'community', 'play', 'recovery', 'phase', 'disaster', 'risk', 'reduction', 'role', 'range', 'administer', 'first', 'aid', 'co', 'produce', 'knowledge', 'underpinning', 'risk', 'management', 'strategy', 'action', 'argue', 'different', 'type', 'community', 'potential', 'weave', 'disaster', 'readiness', 'response', 'recovery', 'risk', 'reduction', 'core', 'business', 'therefore', 'represent', 'valuable', 'though', 'often', 'underestimate', 'resource', 'elsevier_ltd', 'rights_reserved', 'keyword', 'community', 'social', 'capital', 'resilience', 'participation', 'disaster', 'management', 'participation', 'vulnerability', 'adaptation', 'recovery', 'level']]\n"
     ]
    }
   ],
   "source": [
    "\n",
    "# Define functions for stopwords, bigrams, trigrams and lemmatization\n",
    "def remove_stopwords(texts):\n",
    "    return [[word for word in simple_preprocess(str(doc)) if word not in stop_words] for doc in texts]\n",
    "\n",
    "def make_bigrams(texts):\n",
    "    return [bigram_mod[doc] for doc in texts]\n",
    "\n",
    "def make_trigrams(texts):\n",
    "    return [trigram_mod[bigram_mod[doc]] for doc in texts]\n",
    "\n",
    "def lemmatization(texts, allowed_postags=['NOUN', 'ADJ', 'VERB', 'ADV']):\n",
    "    \"\"\"https://spacy.io/api/annotation\"\"\"\n",
    "    texts_out = []\n",
    "    for sent in texts:\n",
    "        doc = nlp(\" \".join(sent)) \n",
    "        texts_out.append([token.lemma_ for token in doc if token.pos_ in allowed_postags])\n",
    "    return texts_out\n",
    "\n",
    "# Remove Stop Words\n",
    "data_words_nostops = remove_stopwords(data_words)\n",
    "\n",
    "# Form Bigrams\n",
    "data_words_bigrams = make_bigrams(data_words_nostops)\n",
    "\n",
    "# Initialize spacy 'en' model, keeping only tagger component (for efficiency)\n",
    "# python3 -m spacy download en\n",
    "nlp = spacy.load('en', disable=['parser', 'ner'])\n",
    "\n",
    "# Do lemmatization keeping only noun, adj, vb, adv\n",
    "data_lemmatized = lemmatization(data_words_bigrams, allowed_postags=['NOUN', 'ADJ', 'VERB', 'ADV'])\n",
    "\n",
    "print(data_lemmatized[:1])"
   ]
  },
  {
   "cell_type": "code",
   "execution_count": 5,
   "metadata": {},
   "outputs": [
    {
     "name": "stdout",
     "output_type": "stream",
     "text": [
      "[[(0, 1), (1, 1), (2, 2), (3, 1), (4, 1), (5, 1), (6, 1), (7, 1), (8, 1), (9, 2), (10, 1), (11, 2), (12, 1), (13, 1), (14, 1), (15, 1), (16, 7), (17, 1), (18, 2), (19, 2), (20, 3), (21, 1), (22, 3), (23, 1), (24, 1), (25, 3), (26, 2), (27, 1), (28, 1), (29, 1), (30, 1), (31, 4), (32, 1), (33, 1), (34, 1), (35, 1), (36, 1), (37, 1), (38, 1), (39, 2), (40, 1), (41, 1), (42, 1), (43, 1), (44, 1), (45, 1), (46, 2), (47, 1), (48, 2), (49, 2), (50, 1), (51, 1), (52, 1), (53, 1), (54, 1), (55, 5), (56, 2), (57, 1), (58, 3), (59, 1), (60, 1), (61, 1), (62, 1), (63, 1), (64, 1), (65, 3), (66, 4), (67, 1), (68, 1), (69, 1), (70, 1), (71, 2), (72, 1), (73, 2), (74, 1), (75, 1), (76, 2), (77, 1), (78, 1), (79, 1), (80, 1), (81, 1), (82, 1)]]\n"
     ]
    }
   ],
   "source": [
    "\n",
    "# Create Dictionary\n",
    "id2word = corpora.Dictionary(data_lemmatized)\n",
    "\n",
    "# Create Corpus\n",
    "texts = data_lemmatized\n",
    "\n",
    "# Term Document Frequency\n",
    "corpus = [id2word.doc2bow(text) for text in texts]\n",
    "\n",
    "# View\n",
    "print(corpus[:1])"
   ]
  },
  {
   "cell_type": "code",
   "execution_count": 6,
   "metadata": {},
   "outputs": [
    {
     "name": "stdout",
     "output_type": "stream",
     "text": [
      "[(0,\n",
      "  '0.039*\"risk\" + 0.030*\"flood\" + 0.022*\"disaster\" + 0.021*\"vulnerability\" + '\n",
      "  '0.020*\"hazard\" + 0.015*\"area\" + 0.015*\"impact\" + 0.012*\"natural\" + '\n",
      "  '0.012*\"event\" + 0.011*\"study\"'),\n",
      " (1,\n",
      "  '0.037*\"model\" + 0.018*\"use\" + 0.017*\"earthquake\" + 0.013*\"method\" + '\n",
      "  '0.013*\"base\" + 0.012*\"damage\" + 0.010*\"result\" + 0.010*\"study\" + '\n",
      "  '0.010*\"area\" + 0.010*\"keyword\"'),\n",
      " (2,\n",
      "  '0.062*\"information\" + 0.060*\"landslide\" + 0.026*\"medium\" + 0.024*\"datum\" + '\n",
      "  '0.019*\"rainfall\" + 0.017*\"system\" + 0.014*\"use\" + 0.011*\"debris_flow\" + '\n",
      "  '0.011*\"fire\" + 0.011*\"technology\"'),\n",
      " (3,\n",
      "  '0.094*\"earthquake\" + 0.031*\"school\" + 0.028*\"education\" + 0.022*\"child\" + '\n",
      "  '0.016*\"student\" + 0.015*\"year\" + 0.014*\"disaster\" + 0.013*\"study\" + '\n",
      "  '0.012*\"post\" + 0.012*\"stress\"'),\n",
      " (4,\n",
      "  '0.097*\"infrastructure\" + 0.063*\"sector\" + 0.036*\"critical\" + '\n",
      "  '0.033*\"indirect\" + 0.033*\"economic\" + 0.032*\"business\" + '\n",
      "  '0.027*\"interdependence\" + 0.025*\"loss\" + 0.023*\"direct\" + 0.022*\"impact\"'),\n",
      " (5,\n",
      "  '0.058*\"disaster\" + 0.019*\"risk\" + 0.018*\"community\" + 0.015*\"resilience\" + '\n",
      "  '0.015*\"management\" + 0.012*\"paper\" + 0.012*\"keyword\" + 0.011*\"reduction\" + '\n",
      "  '0.009*\"approach\" + 0.009*\"recovery\"'),\n",
      " (6,\n",
      "  '0.056*\"health\" + 0.043*\"emergency\" + 0.034*\"preparedness\" + '\n",
      "  '0.025*\"disaster\" + 0.018*\"response\" + 0.016*\"keyword\" + 0.016*\"service\" + '\n",
      "  '0.016*\"care\" + 0.015*\"public\" + 0.014*\"hospital\"'),\n",
      " (7,\n",
      "  '0.040*\"evacuation\" + 0.036*\"perception\" + 0.030*\"household\" + '\n",
      "  '0.029*\"resident\" + 0.028*\"preparedness\" + 0.023*\"risk\" + 0.021*\"perceive\" + '\n",
      "  '0.020*\"people\" + 0.017*\"behavior\" + 0.017*\"influence\"')]\n"
     ]
    }
   ],
   "source": [
    "\n",
    "# Build LDA model\n",
    "lda_model = gensim.models.ldamodel.LdaModel(corpus=corpus,\n",
    "                                           id2word=id2word,\n",
    "                                           num_topics=8, \n",
    "                                           random_state=100,\n",
    "                                           update_every=1,\n",
    "                                           chunksize=100,\n",
    "                                           passes=10,\n",
    "                                           alpha='auto',\n",
    "                                           per_word_topics=True)\n",
    "\n",
    "# Print the Keyword in the 10 topics\n",
    "pprint(lda_model.print_topics())\n",
    "doc_lda = lda_model[corpus]"
   ]
  },
  {
   "cell_type": "code",
   "execution_count": 7,
   "metadata": {},
   "outputs": [
    {
     "name": "stdout",
     "output_type": "stream",
     "text": [
      "\n",
      "Perplexity:  -7.719932317362921\n",
      "\n",
      "Coherence Score:  0.3327608157875921\n"
     ]
    }
   ],
   "source": [
    "# Compute Perplexity\n",
    "print('\\nPerplexity: ', lda_model.log_perplexity(corpus))  # a measure of how good the model is. lower the better.\n",
    "\n",
    "# Compute Coherence Score\n",
    "coherence_model_lda = CoherenceModel(model=lda_model, texts=data_lemmatized, dictionary=id2word, coherence='c_v')\n",
    "coherence_lda = coherence_model_lda.get_coherence()\n",
    "print('\\nCoherence Score: ', coherence_lda)"
   ]
  },
  {
   "cell_type": "code",
   "execution_count": 8,
   "metadata": {},
   "outputs": [
    {
     "name": "stderr",
     "output_type": "stream",
     "text": [
      "c:\\users\\user\\appdata\\local\\programs\\python\\python37\\lib\\site-packages\\pyLDAvis\\_prepare.py:257: FutureWarning: Sorting because non-concatenation axis is not aligned. A future version\n",
      "of pandas will change to not sort by default.\n",
      "\n",
      "To accept the future behavior, pass 'sort=False'.\n",
      "\n",
      "To retain the current behavior and silence the warning, pass 'sort=True'.\n",
      "\n",
      "  return pd.concat([default_term_info] + list(topic_dfs))\n"
     ]
    }
   ],
   "source": [
    "pyLDAvis.enable_notebook()\n",
    "vis = pyLDAvis.gensim.prepare(lda_model, corpus, id2word)\n",
    "vis\n",
    "pyLDAvis.save_html(vis, 'LDAGensim_Total_WOS.html')"
   ]
  },
  {
   "cell_type": "code",
   "execution_count": null,
   "metadata": {},
   "outputs": [],
   "source": []
  },
  {
   "cell_type": "code",
   "execution_count": null,
   "metadata": {},
   "outputs": [],
   "source": []
  }
 ],
 "metadata": {
  "kernelspec": {
   "display_name": "Python 3",
   "language": "python",
   "name": "python3"
  },
  "language_info": {
   "codemirror_mode": {
    "name": "ipython",
    "version": 3
   },
   "file_extension": ".py",
   "mimetype": "text/x-python",
   "name": "python",
   "nbconvert_exporter": "python",
   "pygments_lexer": "ipython3",
   "version": "3.7.3"
  }
 },
 "nbformat": 4,
 "nbformat_minor": 2
}
